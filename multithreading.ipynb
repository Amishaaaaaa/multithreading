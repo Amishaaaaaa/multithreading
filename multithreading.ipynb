{
 "cells": [
  {
   "cell_type": "code",
   "execution_count": 2,
   "id": "b10358c3-378e-4cd6-a3cc-24392da35de6",
   "metadata": {},
   "outputs": [
    {
     "data": {
      "text/plain": [
       "'\\nMultithreading in Python refers to the concurrent execution of multiple threads within a single program. A thread is a lightweight unit of \\nexecution that can run independently and concurrently with other threads in the same process.\\n\\nThe main purpose of using multithreading is to achieve concurrency, where multiple tasks can be executed simultaneously, improving overall \\nprogram performance and responsiveness. Multithreading is particularly useful in scenarios where there are CPU-bound tasks (such as complex \\ncalculations) or I/O-bound tasks (such as network requests or file operations) that can benefit from parallel execution.\\n\\nPython provides a built-in module called threading to handle threads. The threading module allows you to create and manage threads within your\\nPython programs. It provides a high-level interface for working with threads and offers features such as thread creation, synchronization, and \\ncoordination mechanisms like locks, events, conditions, and semaphores.\\n'"
      ]
     },
     "execution_count": 2,
     "metadata": {},
     "output_type": "execute_result"
    }
   ],
   "source": [
    "#Q1. What is multithreading in python? Why is it used? Name the module used to handle threads in python.\n",
    "\n",
    "'''\n",
    "Multithreading in Python refers to the concurrent execution of multiple threads within a single program. A thread is a lightweight unit of \n",
    "execution that can run independently and concurrently with other threads in the same process.\n",
    "\n",
    "The main purpose of using multithreading is to achieve concurrency, where multiple tasks can be executed simultaneously, improving overall \n",
    "program performance and responsiveness. Multithreading is particularly useful in scenarios where there are CPU-bound tasks (such as complex \n",
    "calculations) or I/O-bound tasks (such as network requests or file operations) that can benefit from parallel execution.\n",
    "\n",
    "Python provides a built-in module called threading to handle threads. The threading module allows you to create and manage threads within your\n",
    "Python programs. It provides a high-level interface for working with threads and offers features such as thread creation, synchronization, and \n",
    "coordination mechanisms like locks, events, conditions, and semaphores.\n",
    "'''"
   ]
  },
  {
   "cell_type": "code",
   "execution_count": null,
   "id": "52811f21-7e77-4d35-b26f-37c356cc2b03",
   "metadata": {},
   "outputs": [],
   "source": [
    "'''\n",
    "Q2. Why threading module used? Write the use of the following functions\n",
    " 1. activeCount()\n",
    " 2. currentThread()\n",
    " 3. enumerate()\n",
    "'''\n",
    "\n",
    "'''\n",
    "With the threading module, you can create new threads by subclassing the Thread class or by using the Thread class directly. You can define the \n",
    "target function that the thread should execute and start the thread'sexecution using the start() method. The threading module also provides methods\n",
    "for managing thread execution, synchronization, and termination.\n",
    "\n",
    "activeCount(): The activeCount() function returns the number of currently active threads in the program. It returns an integer representing the \n",
    "count of active threads, including the main thread.\n",
    "\n",
    "currentThread(): The currentThread() function returns the Thread object representing the currently executing thread. It allows you to obtain a \n",
    "reference to the thread from within the thread itself.\n",
    "\n",
    "enumerate(): The enumerate() function returns a list of all currently active Thread objects. It provides a way to obtain a list of all threads in \n",
    "the program, including the main thread.\n",
    "'''"
   ]
  },
  {
   "cell_type": "code",
   "execution_count": 11,
   "id": "c3ba78a1-e150-4c64-80f4-a87f025832de",
   "metadata": {},
   "outputs": [
    {
     "name": "stdout",
     "output_type": "stream",
     "text": [
      "False\n",
      "Task executed.\n",
      "Thread completed.\n"
     ]
    }
   ],
   "source": [
    "'''\n",
    "3. Explain the following functions\n",
    " run()\n",
    " start()\n",
    " join()\n",
    " isAlive()\n",
    "'''\n",
    "\n",
    "'''\n",
    "run(): The run() method is the entry point for the execution of the target function in a thread. It is automatically called when you start a \n",
    "thread using the start() method. You can override this method by subclassing the Thread class and providing your own implementation of the run() \n",
    "method.\n",
    "\n",
    "start(): The start() method is used to start the execution of a thread. It creates a new thread and initiates the execution of the target function \n",
    "specified by the target argument (if provided) or the run() method (if overridden). The start() method returns immediately, allowing the main thread\n",
    "to continue its execution while the new thread runs concurrently.\n",
    "\n",
    "join(): The join() method is used to block the execution of the main thread until the associated thread completes its execution. It allows you to \n",
    "wait for the completion of a thread before proceeding with further code execution. The join() method can be optionally provided with a timeout \n",
    "parameter to specify the maximum time to wait for the thread to finish.\n",
    "\n",
    "is_alive(): The is_alive() method is used to check whether a thread is currently executing or has finished its execution. It returns True if the thread\n",
    "is still running, and False otherwise.\n",
    "'''\n",
    "\n",
    "import threading\n",
    "\n",
    "def task():\n",
    "    print(\"Task executed.\")\n",
    "\n",
    "# Create and start thread\n",
    "thread = threading.Thread(target=task)\n",
    "thread.start()\n",
    "print(thread.is_alive())\n",
    "# Wait for thread to complete\n",
    "thread.join()\n",
    "print(\"Thread completed.\")"
   ]
  },
  {
   "cell_type": "code",
   "execution_count": 22,
   "id": "9e2602f5-d1e0-4190-8873-e244e50b5137",
   "metadata": {},
   "outputs": [
    {
     "name": "stdout",
     "output_type": "stream",
     "text": [
      "square of 1: 1\n",
      "\n",
      "cube of 1: 1\n",
      "square of 2: 4\n",
      "\n",
      "cube of 2: 8\n",
      "square of 3: 9\n",
      "\n",
      "cube of 3: 27\n",
      "Thread Completed\n"
     ]
    }
   ],
   "source": [
    "#4. Write a python program to create two threads. Thread one must print the list of squares and thread two must print the list of cubes.\n",
    "\n",
    "import threading\n",
    "import time\n",
    "\n",
    "def task1():\n",
    "    for i in range (1,4):\n",
    "        square=i**2\n",
    "        print(f\"square of {i}: {square}\\n\")\n",
    "        time.sleep(0.5)\n",
    "def task2():\n",
    "    for i in range (1,4):\n",
    "        cube=i**3\n",
    "        print(f\"cube of {i}: {cube}\")\n",
    "        time.sleep(0.5)\n",
    "\n",
    "thread1=threading.Thread(target=task1)\n",
    "thread2=threading.Thread(target=task2)\n",
    "\n",
    "thread1.start()\n",
    "thread2.start()\n",
    "\n",
    "thread1.join()\n",
    "thread2.join()\n",
    "print(\"Thread Completed\")"
   ]
  },
  {
   "cell_type": "code",
   "execution_count": null,
   "id": "9bf33fae-e4dc-4d88-b3e0-f1167fadb59e",
   "metadata": {},
   "outputs": [],
   "source": [
    "#5. State advantages and disadvantages of multithreading\n",
    "\n",
    "'''\n",
    "Advantages of Multithreading:\n",
    "\n",
    "Improved Responsiveness: Multithreading allows concurrent execution of multiple threads within a single process, which can enhance the responsiveness\n",
    "of an application. For example, in a user interface, the main thread can handle user input while a separate thread performs time-consuming tasks in \n",
    "the background.\n",
    "\n",
    "Efficient Resource Utilization: Threads within a process share the same resources, such as memory space, file descriptors, and CPU. By utilizing \n",
    "multiple threads, you can make better use of system resources and improve overall efficiency.\n",
    "\n",
    "Enhanced Performance: In situations where multiple tasks can be executed simultaneously, multithreading can improve performance by utilizing the \n",
    "available processing power and reducing overall execution time. This is particularly useful in computationally intensive or I/O-bound operations.\n",
    "\n",
    "Simplified Program Design: Multithreading allows you to divide complex tasks into smaller, manageable threads. This can result in cleaner and more \n",
    "modular program design, making it easier to understand, maintain, and extend the codebase.\n",
    "\n",
    "\n",
    "\n",
    "Disadvantages of Multithreading:\n",
    "\n",
    "Increased Complexity: Multithreading introduces complexity into the codebase, as it requires careful synchronization and coordination between threads\n",
    "to avoid issues like race conditions, deadlocks, and data inconsistencies. Debugging and troubleshooting multithreaded programs can be more \n",
    "challenging.\n",
    "\n",
    "Synchronization Overhead: When multiple threads access shared resources concurrently, synchronization mechanisms like locks, semaphores, or condition\n",
    "variables are often required to ensure thread safety. These synchronization operations can introduce overhead and potentially impact performance.\n",
    "\n",
    "Difficult to Debug: Debugging multithreaded programs can be challenging due to non-deterministic behavior. The interleaved execution of threads can\n",
    "lead to subtle bugs that are difficult to reproduce and debug.\n",
    "\n",
    "Potential Resource Contentions: Multiple threads competing for the same resources may result in contention issues, such as excessive locking or\n",
    "contention over shared data. This contention can degrade performance and scalability.\n",
    "\n",
    "Limited Scaling on CPU-Bound Tasks: Although multithreading can improve performance for certain tasks, it may not always scale well on CPU-bound \n",
    "operations. This is because the number of available CPU cores can limit the benefits of parallel execution, and excessive thread creation can \n",
    "introduce scheduling overhead.\n",
    "'''"
   ]
  },
  {
   "cell_type": "code",
   "execution_count": null,
   "id": "4b137f20-3add-44da-89b3-c6ab6917c436",
   "metadata": {},
   "outputs": [],
   "source": [
    "#6. Explain deadlocks and race conditions.\n",
    "\n",
    "'''\n",
    "Deadlocks:\n",
    "A deadlock occurs when two or more threads are blocked indefinitely, waiting for each other to release resources that they hold. \n",
    "Deadlocks typically happen due to a circular dependency of resources among threads. Deadlocks can bring the entire system or application \n",
    "to a halt, as the threads involved cannot proceed and are stuck in a deadlock state.\n",
    "\n",
    "ace Conditions:\n",
    "A race condition occurs when the behavior of a program depends on the relative timing or interleaving of multiple threads or processes. \n",
    "It arises when two or more threads access shared data concurrently, and the final outcome of the program becomes unpredictable or incorrect due to\n",
    "non-deterministic execution.\n",
    "'''"
   ]
  }
 ],
 "metadata": {
  "kernelspec": {
   "display_name": "Python 3 (ipykernel)",
   "language": "python",
   "name": "python3"
  },
  "language_info": {
   "codemirror_mode": {
    "name": "ipython",
    "version": 3
   },
   "file_extension": ".py",
   "mimetype": "text/x-python",
   "name": "python",
   "nbconvert_exporter": "python",
   "pygments_lexer": "ipython3",
   "version": "3.10.8"
  }
 },
 "nbformat": 4,
 "nbformat_minor": 5
}
